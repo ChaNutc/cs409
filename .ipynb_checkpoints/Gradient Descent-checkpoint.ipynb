{
 "cells": [
  {
   "cell_type": "code",
   "execution_count": 1,
   "metadata": {},
   "outputs": [],
   "source": [
    "import numpy as np"
   ]
  },
  {
   "cell_type": "code",
   "execution_count": 2,
   "metadata": {},
   "outputs": [],
   "source": [
    "theta = 1.0\n",
    "alpha = 0.3"
   ]
  },
  {
   "cell_type": "markdown",
   "metadata": {},
   "source": [
    "# Activity1\n",
    "$L = \\theta^{2} - \\theta + 1$"
   ]
  },
  {
   "cell_type": "code",
   "execution_count": 3,
   "metadata": {},
   "outputs": [
    {
     "name": "stdout",
     "output_type": "stream",
     "text": [
      "0.7\n",
      "0.58\n",
      "0.532\n",
      "0.5128\n",
      "0.50512\n",
      "0.502048\n",
      "0.5008192\n",
      "0.50032768\n",
      "0.5001310720000001\n",
      "0.5000524288\n"
     ]
    }
   ],
   "source": [
    "for i in range(10):\n",
    "    theta = theta - alpha*(2*theta-1)\n",
    "    print(theta)"
   ]
  },
  {
   "cell_type": "markdown",
   "metadata": {},
   "source": [
    "# Activity2\n",
    "$\\theta_{t+1} = \\theta_{t+1} - \\alpha. \\frac{\\partial L}{\\partial\\theta}$"
   ]
  },
  {
   "cell_type": "code",
   "execution_count": 4,
   "metadata": {},
   "outputs": [
    {
     "name": "stdout",
     "output_type": "stream",
     "text": [
      "[-0.50926907 -0.49581271  0.8269856  -0.78208448 -0.21891955  1.51221067\n",
      " -1.40999598 -0.07673563  1.03191012  0.01091649]\n",
      "[-1.13548199  0.35963926  0.2518137   0.89905972 -0.48292889 -0.70201793\n",
      "  0.40157456  1.03058601 -0.48637391  0.48827987]\n"
     ]
    }
   ],
   "source": [
    "x = np.random.normal(size=10)\n",
    "y = np.random.normal(size=10)\n",
    "print(x)\n",
    "print(y)"
   ]
  },
  {
   "cell_type": "code",
   "execution_count": 5,
   "metadata": {},
   "outputs": [],
   "source": [
    "def yp(x,m,c):\n",
    "    return m*x+c"
   ]
  },
  {
   "cell_type": "code",
   "execution_count": 6,
   "metadata": {},
   "outputs": [
    {
     "data": {
      "text/plain": [
       "array([1.49073093, 1.50418729, 2.8269856 , 1.21791552, 1.78108045,\n",
       "       3.51221067, 0.59000402, 1.92326437, 3.03191012, 2.01091649])"
      ]
     },
     "execution_count": 6,
     "metadata": {},
     "output_type": "execute_result"
    }
   ],
   "source": [
    "yp(x,1,2)"
   ]
  },
  {
   "cell_type": "code",
   "execution_count": 7,
   "metadata": {},
   "outputs": [
    {
     "data": {
      "text/plain": [
       "array([1.49073093, 1.50418729, 2.8269856 , 1.21791552, 1.78108045,\n",
       "       3.51221067, 0.59000402, 1.92326437, 3.03191012, 2.01091649])"
      ]
     },
     "execution_count": 7,
     "metadata": {},
     "output_type": "execute_result"
    }
   ],
   "source": [
    "y_pred = yp(x,1,2)\n",
    "y_pred"
   ]
  },
  {
   "cell_type": "code",
   "execution_count": 8,
   "metadata": {},
   "outputs": [
    {
     "name": "stdout",
     "output_type": "stream",
     "text": [
      "1.333868748017984\n"
     ]
    }
   ],
   "source": [
    "L=0\n",
    "for i in range(10):\n",
    "    L = L + pow(0.5*(y_pred[i]-y[i]),2)\n",
    "L = (1/len(y_pred))*L\n",
    "print(L)"
   ]
  },
  {
   "cell_type": "markdown",
   "metadata": {},
   "source": [
    "$L = \\frac{1}{2}*\\frac{1}{n} \\sum(y_{p}-y_{t})^2 * x$\n",
    "\n",
    "$\\frac{1}{n} \\sum(y_{p}-y_{t})$"
   ]
  },
  {
   "cell_type": "code",
   "execution_count": 9,
   "metadata": {},
   "outputs": [
    {
     "data": {
      "text/plain": [
       "0.4220483481487993"
      ]
     },
     "execution_count": 9,
     "metadata": {},
     "output_type": "execute_result"
    }
   ],
   "source": [
    "L=0\n",
    "for i in range(10):\n",
    "    L+=(y_pred[i]-y[i])\n",
    "L=L*(1/len(y_pred))\n",
    "theta = 1.0\n",
    "theta = theta - alpha*L\n",
    "theta"
   ]
  },
  {
   "cell_type": "code",
   "execution_count": null,
   "metadata": {},
   "outputs": [],
   "source": []
  }
 ],
 "metadata": {
  "kernelspec": {
   "display_name": "Python 3",
   "language": "python",
   "name": "python3"
  },
  "language_info": {
   "codemirror_mode": {
    "name": "ipython",
    "version": 3
   },
   "file_extension": ".py",
   "mimetype": "text/x-python",
   "name": "python",
   "nbconvert_exporter": "python",
   "pygments_lexer": "ipython3",
   "version": "3.7.4"
  }
 },
 "nbformat": 4,
 "nbformat_minor": 2
}
