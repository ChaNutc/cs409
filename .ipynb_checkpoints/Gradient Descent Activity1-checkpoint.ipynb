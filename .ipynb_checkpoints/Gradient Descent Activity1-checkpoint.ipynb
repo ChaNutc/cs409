{
 "cells": [
  {
   "cell_type": "code",
   "execution_count": 1,
   "metadata": {},
   "outputs": [],
   "source": [
    "import numpy as np"
   ]
  },
  {
   "cell_type": "code",
   "execution_count": 2,
   "metadata": {},
   "outputs": [],
   "source": [
    "theta = 1.0\n",
    "alpha = 0.3"
   ]
  },
  {
   "cell_type": "markdown",
   "metadata": {},
   "source": [
    "# Activity1\n",
    "$L = \\theta^{2} - \\theta + 1$"
   ]
  },
  {
   "cell_type": "code",
   "execution_count": 3,
   "metadata": {},
   "outputs": [
    {
     "name": "stdout",
     "output_type": "stream",
     "text": [
      "0.7\n",
      "0.58\n",
      "0.532\n",
      "0.5128\n",
      "0.50512\n",
      "0.502048\n",
      "0.5008192\n",
      "0.50032768\n",
      "0.5001310720000001\n",
      "0.5000524288\n"
     ]
    }
   ],
   "source": [
    "for i in range(10):\n",
    "    theta = theta - alpha*(2*theta-1)\n",
    "    print(theta)"
   ]
  },
  {
   "cell_type": "markdown",
   "metadata": {},
   "source": [
    "# Activity2\n",
    "$\\theta_{t+1} = \\theta_{t+1} - \\alpha. \\frac{\\partial L}{\\partial\\theta}$"
   ]
  },
  {
   "cell_type": "markdown",
   "metadata": {},
   "source": [
    "y = mx+c"
   ]
  },
  {
   "cell_type": "code",
   "execution_count": 4,
   "metadata": {},
   "outputs": [],
   "source": [
    "x = np.arange(-1,1,0.1)\n",
    "y = 3*x+2\n",
    "# print(x)\n",
    "#print(y)"
   ]
  },
  {
   "cell_type": "code",
   "execution_count": 5,
   "metadata": {},
   "outputs": [],
   "source": [
    "def yp(x,m,c):\n",
    "    return m*x+c"
   ]
  },
  {
   "cell_type": "code",
   "execution_count": 6,
   "metadata": {},
   "outputs": [
    {
     "data": {
      "text/plain": [
       "array([1. , 1.1, 1.2, 1.3, 1.4, 1.5, 1.6, 1.7, 1.8, 1.9, 2. , 2.1, 2.2,\n",
       "       2.3, 2.4, 2.5, 2.6, 2.7, 2.8, 2.9])"
      ]
     },
     "execution_count": 6,
     "metadata": {},
     "output_type": "execute_result"
    }
   ],
   "source": [
    "y_pred = yp(x,1,2)\n",
    "y_pred"
   ]
  },
  {
   "cell_type": "code",
   "execution_count": 7,
   "metadata": {},
   "outputs": [
    {
     "name": "stdout",
     "output_type": "stream",
     "text": [
      "0.19250000000000006\n"
     ]
    }
   ],
   "source": [
    "L=0\n",
    "for i in range(10):\n",
    "    L = L + pow(0.5*(y_pred[i]-y[i]),2)\n",
    "#     L = L + (y_pred[i]-y[i])\n",
    "L = (1/len(y_pred))*L\n",
    "print(L)"
   ]
  },
  {
   "cell_type": "markdown",
   "metadata": {},
   "source": [
    "$L = \\frac{1}{2}(y_{p}-y_{t})^2 * x$\n",
    "\n",
    "$\\frac{1}{n} \\sum(y_{p}-y_{t})$"
   ]
  },
  {
   "cell_type": "code",
   "execution_count": 8,
   "metadata": {},
   "outputs": [
    {
     "name": "stdout",
     "output_type": "stream",
     "text": [
      "0.94\n",
      "0.826\n",
      "0.6639999999999999\n",
      "0.4599999999999999\n",
      "0.21999999999999992\n",
      "-0.0500000000000001\n",
      "-0.34400000000000014\n",
      "-0.6560000000000001\n",
      "-0.9800000000000002\n",
      "-1.3100000000000003\n"
     ]
    }
   ],
   "source": [
    "L=0\n",
    "theta = 1.0\n",
    "for i in range(10):\n",
    "    L+=(y_pred[i]-y[i])*(1/10)\n",
    "    #L=L+pow(0.5*(y_pred[i]-y[i]),2)*(1/len(y_pred))\n",
    "    theta = theta - alpha*L\n",
    "    print(theta)\n",
    "\n",
    "#theta = theta - alpha*L\n",
    "#print(theta)"
   ]
  },
  {
   "cell_type": "code",
   "execution_count": null,
   "metadata": {},
   "outputs": [],
   "source": []
  }
 ],
 "metadata": {
  "kernelspec": {
   "display_name": "Python 3",
   "language": "python",
   "name": "python3"
  },
  "language_info": {
   "codemirror_mode": {
    "name": "ipython",
    "version": 3
   },
   "file_extension": ".py",
   "mimetype": "text/x-python",
   "name": "python",
   "nbconvert_exporter": "python",
   "pygments_lexer": "ipython3",
   "version": "3.7.4"
  }
 },
 "nbformat": 4,
 "nbformat_minor": 2
}
